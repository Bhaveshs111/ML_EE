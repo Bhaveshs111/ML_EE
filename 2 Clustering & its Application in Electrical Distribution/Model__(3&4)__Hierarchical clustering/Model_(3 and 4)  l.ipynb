{
 "cells": [
  {
   "cell_type": "code",
   "execution_count": 1,
   "metadata": {},
   "outputs": [],
   "source": [
    "from sklearn.cluster import KMeans\n",
    "import pandas as pd\n",
    "from sklearn.preprocessing import MinMaxScaler\n",
    "from matplotlib import pyplot as plt"
   ]
  },
  {
   "cell_type": "code",
   "execution_count": 2,
   "metadata": {},
   "outputs": [
    {
     "data": {
      "text/html": [
       "<div>\n",
       "<style scoped>\n",
       "    .dataframe tbody tr th:only-of-type {\n",
       "        vertical-align: middle;\n",
       "    }\n",
       "\n",
       "    .dataframe tbody tr th {\n",
       "        vertical-align: top;\n",
       "    }\n",
       "\n",
       "    .dataframe thead th {\n",
       "        text-align: right;\n",
       "    }\n",
       "</style>\n",
       "<table border=\"1\" class=\"dataframe\">\n",
       "  <thead>\n",
       "    <tr style=\"text-align: right;\">\n",
       "      <th></th>\n",
       "      <th>Node</th>\n",
       "      <th>Volts</th>\n",
       "      <th>LSF</th>\n",
       "    </tr>\n",
       "  </thead>\n",
       "  <tbody>\n",
       "    <tr>\n",
       "      <th>0</th>\n",
       "      <td>1</td>\n",
       "      <td>1.0000</td>\n",
       "      <td>0.0000</td>\n",
       "    </tr>\n",
       "    <tr>\n",
       "      <th>1</th>\n",
       "      <td>2</td>\n",
       "      <td>0.9970</td>\n",
       "      <td>0.0003</td>\n",
       "    </tr>\n",
       "    <tr>\n",
       "      <th>2</th>\n",
       "      <td>3</td>\n",
       "      <td>0.9829</td>\n",
       "      <td>0.0019</td>\n",
       "    </tr>\n",
       "    <tr>\n",
       "      <th>3</th>\n",
       "      <td>4</td>\n",
       "      <td>0.9754</td>\n",
       "      <td>0.0014</td>\n",
       "    </tr>\n",
       "    <tr>\n",
       "      <th>4</th>\n",
       "      <td>5</td>\n",
       "      <td>0.9680</td>\n",
       "      <td>0.0015</td>\n",
       "    </tr>\n",
       "  </tbody>\n",
       "</table>\n",
       "</div>"
      ],
      "text/plain": [
       "   Node   Volts     LSF\n",
       "0     1  1.0000  0.0000\n",
       "1     2  0.9970  0.0003\n",
       "2     3  0.9829  0.0019\n",
       "3     4  0.9754  0.0014\n",
       "4     5  0.9680  0.0015"
      ]
     },
     "execution_count": 2,
     "metadata": {},
     "output_type": "execute_result"
    }
   ],
   "source": [
    "df = pd.read_csv(\"data(V,LSF)kmeans.csv\")\n",
    "df.head()"
   ]
  },
  {
   "cell_type": "code",
   "execution_count": 3,
   "metadata": {},
   "outputs": [
    {
     "data": {
      "text/plain": [
       "Text(0, 0.5, 'LSF')"
      ]
     },
     "execution_count": 3,
     "metadata": {},
     "output_type": "execute_result"
    },
    {
     "data": {
      "image/png": "[encoded data removed]",
      "text/plain": [
       "<Figure size 432x288 with 1 Axes>"
      ]
     },
     "metadata": {
      "needs_background": "light"
     },
     "output_type": "display_data"
    }
   ],
   "source": [
    "plt.scatter(df.Node,df.iloc[:,2].values)\n",
    "plt.xlabel('Lode')\n",
    "plt.ylabel('LSF')"
   ]
  },
  {
   "cell_type": "code",
   "execution_count": 4,
   "metadata": {},
   "outputs": [
    {
     "data": {
      "text/plain": [
       "Text(0, 0.5, 'voltage')"
      ]
     },
     "execution_count": 4,
     "metadata": {},
     "output_type": "execute_result"
    },
    {
     "data": {
      "image/png": "[encoded data removed]",
      "text/plain": [
       "<Figure size 432x288 with 1 Axes>"
      ]
     },
     "metadata": {
      "needs_background": "light"
     },
     "output_type": "display_data"
    }
   ],
   "source": [
    "plt.scatter(df.Node,df.iloc[:,1].values)\n",
    "plt.xlabel('Load')\n",
    "plt.ylabel('voltage')"
   ]
  },
  {
   "cell_type": "code",
   "execution_count": 5,
   "metadata": {},
   "outputs": [],
   "source": [
    "data = df.iloc[:,1:3].values              #voltage #LSF"
   ]
  },
  {
   "cell_type": "code",
   "execution_count": 6,
   "metadata": {},
   "outputs": [
    {
     "data": {
      "text/plain": [
       "array([1, 1, 1, 1, 1, 2, 2, 2, 0, 0, 0, 0, 0, 0, 0, 0, 0, 0, 1, 1, 1, 1,\n",
       "       1, 1, 1, 2, 2, 2, 0, 0, 0, 0, 0])"
      ]
     },
     "execution_count": 6,
     "metadata": {},
     "output_type": "execute_result"
    }
   ],
   "source": [
    "km = KMeans(n_clusters=3)         \n",
    "y_predicted = km.fit_predict(data)\n",
    "y_predicted"
   ]
  },
  {
   "cell_type": "code",
   "execution_count": 7,
   "metadata": {},
   "outputs": [
    {
     "name": "stdout",
     "output_type": "stream",
     "text": [
      "    Node   Volts     LSF  cluster\n",
      "0      1  1.0000  0.0000        1\n",
      "1      2  0.9970  0.0003        1\n",
      "2      3  0.9829  0.0019        1\n",
      "3      4  0.9754  0.0014        1\n",
      "4      5  0.9680  0.0015        1\n",
      "5      6  0.9495  0.0034        2\n",
      "6      7  0.9460  0.0008        2\n",
      "7      8  0.9323  0.0074        2\n",
      "8      9  0.9260  0.0045        0\n",
      "9     10  0.9201  0.0046        0\n",
      "10    11  0.9193  0.0009        0\n",
      "11    12  0.9177  0.0017        0\n",
      "12    13  0.9116  0.0066        0\n",
      "13    14  0.9093  0.0025        0\n",
      "14    15  0.9079  0.0027        0\n",
      "15    16  0.9065  0.0034        0\n",
      "16    17  0.9044  0.0159        0\n",
      "17    18  0.9038  0.0034        0\n",
      "18    19  0.9965  0.0006        1\n",
      "19    20  0.9929  0.0057        1\n",
      "20    21  0.9922  0.0016        1\n",
      "21    22  0.9916  0.0027        1\n",
      "22    23  0.9793  0.0018        1\n",
      "23    24  0.9726  0.0036        1\n",
      "24    25  0.9693  0.0036        1\n",
      "25    26  0.9476  0.0008        2\n",
      "26    27  0.9450  0.0012        2\n",
      "27    28  0.9336  0.0045        2\n",
      "28    29  0.9254  0.0035        0\n",
      "29    30  0.9218  0.0022        0\n",
      "30    31  0.9176  0.0043        0\n",
      "31    32  0.9167  0.0014        0\n",
      "32    33  0.9164  0.0015        0\n"
     ]
    }
   ],
   "source": [
    "df['cluster']=y_predicted\n",
    "print(df)"
   ]
  },
  {
   "cell_type": "code",
   "execution_count": 8,
   "metadata": {},
   "outputs": [
    {
     "data": {
      "text/html": [
       "<div>\n",
       "<style scoped>\n",
       "    .dataframe tbody tr th:only-of-type {\n",
       "        vertical-align: middle;\n",
       "    }\n",
       "\n",
       "    .dataframe tbody tr th {\n",
       "        vertical-align: top;\n",
       "    }\n",
       "\n",
       "    .dataframe thead th {\n",
       "        text-align: right;\n",
       "    }\n",
       "</style>\n",
       "<table border=\"1\" class=\"dataframe\">\n",
       "  <thead>\n",
       "    <tr style=\"text-align: right;\">\n",
       "      <th></th>\n",
       "      <th>valtage</th>\n",
       "      <th>LSF</th>\n",
       "    </tr>\n",
       "  </thead>\n",
       "  <tbody>\n",
       "    <tr>\n",
       "      <th>0</th>\n",
       "      <td>0.914967</td>\n",
       "      <td>0.003940</td>\n",
       "    </tr>\n",
       "    <tr>\n",
       "      <th>1</th>\n",
       "      <td>0.984808</td>\n",
       "      <td>0.002058</td>\n",
       "    </tr>\n",
       "    <tr>\n",
       "      <th>2</th>\n",
       "      <td>0.942333</td>\n",
       "      <td>0.003017</td>\n",
       "    </tr>\n",
       "  </tbody>\n",
       "</table>\n",
       "</div>"
      ],
      "text/plain": [
       "    valtage       LSF\n",
       "0  0.914967  0.003940\n",
       "1  0.984808  0.002058\n",
       "2  0.942333  0.003017"
      ]
     },
     "execution_count": 8,
     "metadata": {},
     "output_type": "execute_result"
    }
   ],
   "source": [
    "e=km.cluster_centers_\n",
    "e\n",
    "cdf=pd.DataFrame(e,columns=['valtage','LSF'])\n",
    "cdf\n"
   ]
  },
  {
   "cell_type": "code",
   "execution_count": 9,
   "metadata": {},
   "outputs": [
    {
     "data": {
      "image/png": "[encoded data removed]",
      "text/plain": [
       "<Figure size 432x288 with 1 Axes>"
      ]
     },
     "metadata": {
      "needs_background": "light"
     },
     "output_type": "display_data"
    }
   ],
   "source": [
    "\n",
    "df1 = df[df.cluster==0]\n",
    "df2 = df[df.cluster==1]\n",
    "df3 = df[df.cluster==2]\n",
    "plt.scatter(df1.Node,df1['LSF'],color='red',label='cluster:1(DG1)')\n",
    "plt.scatter(df2.Node,df2['LSF'],color='green',label='cluster:2(DG2)')\n",
    "plt.scatter(df3.Node,df3['LSF'],color='yellow',label='cluster:3(DG3)')\n",
    "\n",
    "plt.xlabel('Load')\n",
    "plt.ylabel('LosS Factor')\n",
    "plt.legend()\n",
    "plt.show()"
   ]
  },
  {
   "cell_type": "code",
   "execution_count": 10,
   "metadata": {},
   "outputs": [],
   "source": [
    "\n",
    "sse = []\n",
    "k_rng = range(1,34)\n",
    "for k in k_rng:\n",
    "    km = KMeans(n_clusters=k)\n",
    "    km.fit(data)\n",
    "    sse.append(km.inertia_)"
   ]
  },
  {
   "cell_type": "code",
   "execution_count": 11,
   "metadata": {},
   "outputs": [],
   "source": [
    "#sse"
   ]
  },
  {
   "cell_type": "markdown",
   "metadata": {},
   "source": [
    "### The SSE is defined as the sum of the squared Euclidean distances of each point to its closest centroid. Since this is a measure of error, the objective of k-means is to try to minimize this value. The purpose of this figure is to show that the initialization of the centroids is an important step :"
   ]
  },
  {
   "cell_type": "code",
   "execution_count": 12,
   "metadata": {},
   "outputs": [
    {
     "data": {
      "text/plain": [
       "[<matplotlib.lines.Line2D at 0x20ff793a9a0>]"
      ]
     },
     "execution_count": 12,
     "metadata": {},
     "output_type": "execute_result"
    },
    {
     "data": {
      "image/png": "[encoded data removed]",
      "text/plain": [
       "<Figure size 432x288 with 1 Axes>"
      ]
     },
     "metadata": {
      "needs_background": "light"
     },
     "output_type": "display_data"
    }
   ],
   "source": [
    "\n",
    "plt.xlabel('Number of clusters (K)')\n",
    "plt.ylabel('Sum of squared error')\n",
    "plt.plot(k_rng,sse)"
   ]
  },
  {
   "cell_type": "markdown",
   "metadata": {},
   "source": [
    "## hierarchical arrangement clustering algo:"
   ]
  },
  {
   "cell_type": "code",
   "execution_count": 13,
   "metadata": {},
   "outputs": [
    {
     "data": {
      "text/plain": [
       "{'icoord': [[15.0, 15.0, 25.0, 25.0],\n",
       "  [5.0, 5.0, 20.0, 20.0],\n",
       "  [45.0, 45.0, 55.0, 55.0],\n",
       "  [35.0, 35.0, 50.0, 50.0],\n",
       "  [12.5, 12.5, 42.5, 42.5],\n",
       "  [65.0, 65.0, 75.0, 75.0],\n",
       "  [85.0, 85.0, 95.0, 95.0],\n",
       "  [105.0, 105.0, 115.0, 115.0],\n",
       "  [90.0, 90.0, 110.0, 110.0],\n",
       "  [70.0, 70.0, 100.0, 100.0],\n",
       "  [27.5, 27.5, 85.0, 85.0],\n",
       "  [145.0, 145.0, 155.0, 155.0],\n",
       "  [135.0, 135.0, 150.0, 150.0],\n",
       "  [125.0, 125.0, 142.5, 142.5],\n",
       "  [205.0, 205.0, 215.0, 215.0],\n",
       "  [195.0, 195.0, 210.0, 210.0],\n",
       "  [185.0, 185.0, 202.5, 202.5],\n",
       "  [175.0, 175.0, 193.75, 193.75],\n",
       "  [165.0, 165.0, 184.375, 184.375],\n",
       "  [235.0, 235.0, 245.0, 245.0],\n",
       "  [225.0, 225.0, 240.0, 240.0],\n",
       "  [255.0, 255.0, 265.0, 265.0],\n",
       "  [275.0, 275.0, 285.0, 285.0],\n",
       "  [260.0, 260.0, 280.0, 280.0],\n",
       "  [232.5, 232.5, 270.0, 270.0],\n",
       "  [295.0, 295.0, 305.0, 305.0],\n",
       "  [315.0, 315.0, 325.0, 325.0],\n",
       "  [300.0, 300.0, 320.0, 320.0],\n",
       "  [251.25, 251.25, 310.0, 310.0],\n",
       "  [174.6875, 174.6875, 280.625, 280.625],\n",
       "  [133.75, 133.75, 227.65625, 227.65625],\n",
       "  [56.25, 56.25, 180.703125, 180.703125]],\n",
       " 'dcoord': [[0.0, 0.0005830951894844828, 0.0005830951894844828, 0.0],\n",
       "  [0.0, 0.0037885793291592986, 0.0037885793291592986, 0.0005830951894844828],\n",
       "  [0.0, 0.001252996408614135, 0.001252996408614135, 0.0],\n",
       "  [0.0, 0.004258716551575917, 0.004258716551575917, 0.001252996408614135],\n",
       "  [0.0037885793291592986,\n",
       "   0.011031016876667977,\n",
       "   0.011031016876667977,\n",
       "   0.004258716551575917],\n",
       "  [0.0, 0.003601388621073869, 0.003601388621073869, 0.0],\n",
       "  [0.0, 0.002469817807045735, 0.002469817807045735, 0.0],\n",
       "  [0.0, 0.00356089876295299, 0.00356089876295299, 0.0],\n",
       "  [0.002469817807045735,\n",
       "   0.007566372975210808,\n",
       "   0.007566372975210808,\n",
       "   0.00356089876295299],\n",
       "  [0.003601388621073869,\n",
       "   0.016000520824856427,\n",
       "   0.016000520824856427,\n",
       "   0.007566372975210808],\n",
       "  [0.011031016876667977,\n",
       "   0.05010605419175081,\n",
       "   0.05010605419175081,\n",
       "   0.016000520824856427],\n",
       "  [0.0, 0.0010770329614269018, 0.0010770329614269018, 0.0],\n",
       "  [0.0, 0.0024358434541927347, 0.0024358434541927347, 0.0010770329614269018],\n",
       "  [0.0, 0.005045955476088458, 0.005045955476088458, 0.0024358434541927347],\n",
       "  [0.0, 0.0014142135623730523, 0.0014142135623730523, 0.0],\n",
       "  [0.0, 0.0025948667274705247, 0.0025948667274705247, 0.0014142135623730523],\n",
       "  [0.0, 0.0050637601312331255, 0.0050637601312331255, 0.0025948667274705247],\n",
       "  [0.0, 0.007513787327307, 0.007513787327307, 0.0050637601312331255],\n",
       "  [0.0, 0.016332421743268825, 0.016332421743268825, 0.007513787327307],\n",
       "  [0.0, 0.0003162277660168066, 0.0003162277660168066, 0.0],\n",
       "  [0.0, 0.001358921140709283, 0.001358921140709283, 0.0003162277660168066],\n",
       "  [0.0, 0.0025179356624028914, 0.0025179356624028914, 0.0],\n",
       "  [0.0, 0.002817800560721027, 0.002817800560721027, 0.0],\n",
       "  [0.0025179356624028914,\n",
       "   0.004753945729601869,\n",
       "   0.004753945729601869,\n",
       "   0.002817800560721027],\n",
       "  [0.001358921140709283,\n",
       "   0.005798193478924965,\n",
       "   0.005798193478924965,\n",
       "   0.004753945729601869],\n",
       "  [0.0, 0.0011661903789690258, 0.0011661903789690258, 0.0],\n",
       "  [0.0, 0.003178049716414128, 0.003178049716414128, 0.0],\n",
       "  [0.0011661903789690258,\n",
       "   0.010617438485811962,\n",
       "   0.010617438485811962,\n",
       "   0.003178049716414128],\n",
       "  [0.005798193478924965,\n",
       "   0.02508967035338565,\n",
       "   0.02508967035338565,\n",
       "   0.010617438485811962],\n",
       "  [0.016332421743268825,\n",
       "   0.042881269984784934,\n",
       "   0.042881269984784934,\n",
       "   0.02508967035338565],\n",
       "  [0.005045955476088458,\n",
       "   0.07649171217074645,\n",
       "   0.07649171217074645,\n",
       "   0.042881269984784934],\n",
       "  [0.05010605419175081,\n",
       "   0.24246893325346572,\n",
       "   0.24246893325346572,\n",
       "   0.07649171217074645]],\n",
       " 'ivl': ['0',\n",
       "  '1',\n",
       "  '18',\n",
       "  '19',\n",
       "  '20',\n",
       "  '21',\n",
       "  '2',\n",
       "  '22',\n",
       "  '4',\n",
       "  '24',\n",
       "  '3',\n",
       "  '23',\n",
       "  '5',\n",
       "  '25',\n",
       "  '6',\n",
       "  '26',\n",
       "  '16',\n",
       "  '12',\n",
       "  '17',\n",
       "  '15',\n",
       "  '13',\n",
       "  '14',\n",
       "  '11',\n",
       "  '31',\n",
       "  '32',\n",
       "  '9',\n",
       "  '30',\n",
       "  '10',\n",
       "  '29',\n",
       "  '8',\n",
       "  '28',\n",
       "  '7',\n",
       "  '27'],\n",
       " 'leaves': [0,\n",
       "  1,\n",
       "  18,\n",
       "  19,\n",
       "  20,\n",
       "  21,\n",
       "  2,\n",
       "  22,\n",
       "  4,\n",
       "  24,\n",
       "  3,\n",
       "  23,\n",
       "  5,\n",
       "  25,\n",
       "  6,\n",
       "  26,\n",
       "  16,\n",
       "  12,\n",
       "  17,\n",
       "  15,\n",
       "  13,\n",
       "  14,\n",
       "  11,\n",
       "  31,\n",
       "  32,\n",
       "  9,\n",
       "  30,\n",
       "  10,\n",
       "  29,\n",
       "  8,\n",
       "  28,\n",
       "  7,\n",
       "  27],\n",
       " 'color_list': ['C1',\n",
       "  'C1',\n",
       "  'C1',\n",
       "  'C1',\n",
       "  'C1',\n",
       "  'C1',\n",
       "  'C1',\n",
       "  'C1',\n",
       "  'C1',\n",
       "  'C1',\n",
       "  'C1',\n",
       "  'C2',\n",
       "  'C2',\n",
       "  'C2',\n",
       "  'C2',\n",
       "  'C2',\n",
       "  'C2',\n",
       "  'C2',\n",
       "  'C2',\n",
       "  'C2',\n",
       "  'C2',\n",
       "  'C2',\n",
       "  'C2',\n",
       "  'C2',\n",
       "  'C2',\n",
       "  'C2',\n",
       "  'C2',\n",
       "  'C2',\n",
       "  'C2',\n",
       "  'C2',\n",
       "  'C2',\n",
       "  'C0']}"
      ]
     },
     "execution_count": 13,
     "metadata": {},
     "output_type": "execute_result"
    },
    {
     "data": {
      "image/png": "[encoded data removed]",
      "text/plain": [
       "<Figure size 792x576 with 1 Axes>"
      ]
     },
     "metadata": {
      "needs_background": "light"
     },
     "output_type": "display_data"
    }
   ],
   "source": [
    "import scipy.cluster.hierarchy as shc\n",
    "from sklearn.cluster import AgglomerativeClustering\n",
    "\n",
    "\n",
    "\n",
    "plt.figure(figsize=(11, 8))\n",
    "plt.title(\"Dendograms\")\n",
    "shc.dendrogram(shc.linkage(data, method='ward'))"
   ]
  },
  {
   "cell_type": "code",
   "execution_count": 14,
   "metadata": {},
   "outputs": [],
   "source": [
    "model = AgglomerativeClustering(n_clusters=3, affinity='euclidean', linkage='ward')\n",
    "model.fit(data)\n",
    "labels = model.labels_"
   ]
  },
  {
   "cell_type": "code",
   "execution_count": 15,
   "metadata": {},
   "outputs": [
    {
     "data": {
      "text/plain": [
       "array([0, 0, 0, 0, 0, 2, 2, 1, 1, 1, 1, 1, 1, 1, 1, 1, 1, 1, 0, 0, 0, 0,\n",
       "       0, 0, 0, 2, 2, 1, 1, 1, 1, 1, 1], dtype=int64)"
      ]
     },
     "execution_count": 15,
     "metadata": {},
     "output_type": "execute_result"
    }
   ],
   "source": [
    "labels"
   ]
  },
  {
   "cell_type": "code",
   "execution_count": 16,
   "metadata": {},
   "outputs": [
    {
     "data": {
      "text/html": [
       "<div>\n",
       "<style scoped>\n",
       "    .dataframe tbody tr th:only-of-type {\n",
       "        vertical-align: middle;\n",
       "    }\n",
       "\n",
       "    .dataframe tbody tr th {\n",
       "        vertical-align: top;\n",
       "    }\n",
       "\n",
       "    .dataframe thead th {\n",
       "        text-align: right;\n",
       "    }\n",
       "</style>\n",
       "<table border=\"1\" class=\"dataframe\">\n",
       "  <thead>\n",
       "    <tr style=\"text-align: right;\">\n",
       "      <th></th>\n",
       "      <th>Node</th>\n",
       "      <th>Volts</th>\n",
       "      <th>LSF</th>\n",
       "    </tr>\n",
       "  </thead>\n",
       "  <tbody>\n",
       "    <tr>\n",
       "      <th>0</th>\n",
       "      <td>1</td>\n",
       "      <td>1.0000</td>\n",
       "      <td>0.0000</td>\n",
       "    </tr>\n",
       "    <tr>\n",
       "      <th>1</th>\n",
       "      <td>2</td>\n",
       "      <td>0.9970</td>\n",
       "      <td>0.0003</td>\n",
       "    </tr>\n",
       "    <tr>\n",
       "      <th>2</th>\n",
       "      <td>3</td>\n",
       "      <td>0.9829</td>\n",
       "      <td>0.0019</td>\n",
       "    </tr>\n",
       "    <tr>\n",
       "      <th>3</th>\n",
       "      <td>4</td>\n",
       "      <td>0.9754</td>\n",
       "      <td>0.0014</td>\n",
       "    </tr>\n",
       "    <tr>\n",
       "      <th>4</th>\n",
       "      <td>5</td>\n",
       "      <td>0.9680</td>\n",
       "      <td>0.0015</td>\n",
       "    </tr>\n",
       "  </tbody>\n",
       "</table>\n",
       "</div>"
      ],
      "text/plain": [
       "   Node   Volts     LSF\n",
       "0     1  1.0000  0.0000\n",
       "1     2  0.9970  0.0003\n",
       "2     3  0.9829  0.0019\n",
       "3     4  0.9754  0.0014\n",
       "4     5  0.9680  0.0015"
      ]
     },
     "execution_count": 16,
     "metadata": {},
     "output_type": "execute_result"
    }
   ],
   "source": [
    "df = pd.read_csv(\"data(V,LSF)kmeans.csv\")\n",
    "df.head()"
   ]
  },
  {
   "cell_type": "markdown",
   "metadata": {},
   "source": [
    "### lets join the hierarchical cluster in the data-frame:"
   ]
  },
  {
   "cell_type": "code",
   "execution_count": 17,
   "metadata": {},
   "outputs": [
    {
     "data": {
      "text/html": [
       "<div>\n",
       "<style scoped>\n",
       "    .dataframe tbody tr th:only-of-type {\n",
       "        vertical-align: middle;\n",
       "    }\n",
       "\n",
       "    .dataframe tbody tr th {\n",
       "        vertical-align: top;\n",
       "    }\n",
       "\n",
       "    .dataframe thead th {\n",
       "        text-align: right;\n",
       "    }\n",
       "</style>\n",
       "<table border=\"1\" class=\"dataframe\">\n",
       "  <thead>\n",
       "    <tr style=\"text-align: right;\">\n",
       "      <th></th>\n",
       "      <th>Node</th>\n",
       "      <th>Volts</th>\n",
       "      <th>LSF</th>\n",
       "      <th>cluster</th>\n",
       "    </tr>\n",
       "  </thead>\n",
       "  <tbody>\n",
       "    <tr>\n",
       "      <th>0</th>\n",
       "      <td>1</td>\n",
       "      <td>1.0000</td>\n",
       "      <td>0.0000</td>\n",
       "      <td>0</td>\n",
       "    </tr>\n",
       "    <tr>\n",
       "      <th>1</th>\n",
       "      <td>2</td>\n",
       "      <td>0.9970</td>\n",
       "      <td>0.0003</td>\n",
       "      <td>0</td>\n",
       "    </tr>\n",
       "    <tr>\n",
       "      <th>2</th>\n",
       "      <td>3</td>\n",
       "      <td>0.9829</td>\n",
       "      <td>0.0019</td>\n",
       "      <td>0</td>\n",
       "    </tr>\n",
       "    <tr>\n",
       "      <th>3</th>\n",
       "      <td>4</td>\n",
       "      <td>0.9754</td>\n",
       "      <td>0.0014</td>\n",
       "      <td>0</td>\n",
       "    </tr>\n",
       "    <tr>\n",
       "      <th>4</th>\n",
       "      <td>5</td>\n",
       "      <td>0.9680</td>\n",
       "      <td>0.0015</td>\n",
       "      <td>0</td>\n",
       "    </tr>\n",
       "  </tbody>\n",
       "</table>\n",
       "</div>"
      ],
      "text/plain": [
       "   Node   Volts     LSF  cluster\n",
       "0     1  1.0000  0.0000        0\n",
       "1     2  0.9970  0.0003        0\n",
       "2     3  0.9829  0.0019        0\n",
       "3     4  0.9754  0.0014        0\n",
       "4     5  0.9680  0.0015        0"
      ]
     },
     "execution_count": 17,
     "metadata": {},
     "output_type": "execute_result"
    }
   ],
   "source": [
    "df[\"cluster\"]=labels\n",
    "df.head()"
   ]
  },
  {
   "cell_type": "code",
   "execution_count": 18,
   "metadata": {},
   "outputs": [
    {
     "data": {
      "image/png": "[encoded data removed]",
      "text/plain": [
       "<Figure size 432x288 with 1 Axes>"
      ]
     },
     "metadata": {
      "needs_background": "light"
     },
     "output_type": "display_data"
    }
   ],
   "source": [
    "df1 = df[df.cluster==0]\n",
    "df2 = df[df.cluster==1]\n",
    "df3 = df[df.cluster==2]\n",
    "plt.scatter(df1.Node,df1.LSF,color='green',label='cluster:1')\n",
    "plt.scatter(df2.Node,df2.LSF,color='red',label='cluster:2')\n",
    "plt.scatter(df3.Node,df3.LSF,color='yellow',label='cluster:3')\n",
    "\n",
    "plt.xlabel('Node')\n",
    "plt.ylabel('LSF')\n",
    "plt.legend()\n",
    "plt.show()"
   ]
  }
 ],
 "metadata": {
  "kernelspec": {
   "display_name": "Python 3",
   "language": "python",
   "name": "python3"
  },
  "language_info": {
   "codemirror_mode": {
    "name": "ipython",
    "version": 3
   },
   "file_extension": ".py",
   "mimetype": "text/x-python",
   "name": "python",
   "nbconvert_exporter": "python",
   "pygments_lexer": "ipython3",
   "version": "3.8.5"
  }
 },
 "nbformat": 4,
 "nbformat_minor": 4
}
