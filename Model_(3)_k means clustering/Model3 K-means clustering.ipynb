{
 "cells": [
  {
   "cell_type": "code",
   "execution_count": 1,
   "metadata": {},
   "outputs": [],
   "source": [
    "from sklearn.cluster import KMeans\n",
    "import pandas as pd\n",
    "from sklearn.preprocessing import MinMaxScaler\n",
    "from matplotlib import pyplot as plt\n",
    "%matplotlib inline"
   ]
  },
  {
   "cell_type": "code",
   "execution_count": 2,
   "metadata": {},
   "outputs": [
    {
     "data": {
      "text/html": [
       "<div>\n",
       "<style scoped>\n",
       "    .dataframe tbody tr th:only-of-type {\n",
       "        vertical-align: middle;\n",
       "    }\n",
       "\n",
       "    .dataframe tbody tr th {\n",
       "        vertical-align: top;\n",
       "    }\n",
       "\n",
       "    .dataframe thead th {\n",
       "        text-align: right;\n",
       "    }\n",
       "</style>\n",
       "<table border=\"1\" class=\"dataframe\">\n",
       "  <thead>\n",
       "    <tr style=\"text-align: right;\">\n",
       "      <th></th>\n",
       "      <th>Node</th>\n",
       "      <th>Volts</th>\n",
       "      <th>LSF</th>\n",
       "    </tr>\n",
       "  </thead>\n",
       "  <tbody>\n",
       "    <tr>\n",
       "      <th>0</th>\n",
       "      <td>1</td>\n",
       "      <td>1.0000</td>\n",
       "      <td>0.0000</td>\n",
       "    </tr>\n",
       "    <tr>\n",
       "      <th>1</th>\n",
       "      <td>2</td>\n",
       "      <td>0.9970</td>\n",
       "      <td>0.0003</td>\n",
       "    </tr>\n",
       "    <tr>\n",
       "      <th>2</th>\n",
       "      <td>3</td>\n",
       "      <td>0.9829</td>\n",
       "      <td>0.0019</td>\n",
       "    </tr>\n",
       "    <tr>\n",
       "      <th>3</th>\n",
       "      <td>4</td>\n",
       "      <td>0.9754</td>\n",
       "      <td>0.0014</td>\n",
       "    </tr>\n",
       "    <tr>\n",
       "      <th>4</th>\n",
       "      <td>5</td>\n",
       "      <td>0.9680</td>\n",
       "      <td>0.0015</td>\n",
       "    </tr>\n",
       "  </tbody>\n",
       "</table>\n",
       "</div>"
      ],
      "text/plain": [
       "   Node   Volts     LSF\n",
       "0     1  1.0000  0.0000\n",
       "1     2  0.9970  0.0003\n",
       "2     3  0.9829  0.0019\n",
       "3     4  0.9754  0.0014\n",
       "4     5  0.9680  0.0015"
      ]
     },
     "execution_count": 2,
     "metadata": {},
     "output_type": "execute_result"
    }
   ],
   "source": [
    "df = pd.read_csv(\"data(V,LSF)kmeans.csv\")\n",
    "df.head()"
   ]
  },
  {
   "cell_type": "code",
   "execution_count": 3,
   "metadata": {},
   "outputs": [
    {
     "data": {
      "text/plain": [
       "Text(0, 0.5, 'LSF')"
      ]
     },
     "execution_count": 3,
     "metadata": {},
     "output_type": "execute_result"
    },
    {
     "data": {
      "image/png": "[encoded data removed]",
      "text/plain": [
       "<Figure size 432x288 with 1 Axes>"
      ]
     },
     "metadata": {
      "needs_background": "light"
     },
     "output_type": "display_data"
    }
   ],
   "source": [
    "plt.scatter(df.Node,df.iloc[:,2].values)\n",
    "plt.xlabel('Node')\n",
    "plt.ylabel('LSF')"
   ]
  },
  {
   "cell_type": "code",
   "execution_count": 4,
   "metadata": {},
   "outputs": [
    {
     "data": {
      "text/plain": [
       "Text(0, 0.5, 'voltage')"
      ]
     },
     "execution_count": 4,
     "metadata": {},
     "output_type": "execute_result"
    },
    {
     "data": {
      "image/png": "[encoded data removed]",
      "text/plain": [
       "<Figure size 432x288 with 1 Axes>"
      ]
     },
     "metadata": {
      "needs_background": "light"
     },
     "output_type": "display_data"
    }
   ],
   "source": [
    "plt.scatter(df.Node,df.iloc[:,1].values)\n",
    "plt.xlabel('Node')\n",
    "plt.ylabel('voltage')"
   ]
  },
  {
   "cell_type": "code",
   "execution_count": 6,
   "metadata": {},
   "outputs": [
    {
     "name": "stdout",
     "output_type": "stream",
     "text": [
      "<class 'numpy.ndarray'>\n"
     ]
    }
   ],
   "source": [
    "data = df.iloc[:,1:3].values    #voltage #LSF\n",
    "print(type(data))"
   ]
  },
  {
   "cell_type": "code",
   "execution_count": 17,
   "metadata": {},
   "outputs": [
    {
     "data": {
      "text/plain": [
       "array([0, 0, 0, 0, 0, 2, 2, 2, 1, 1, 1, 1, 1, 1, 1, 1, 1, 1, 0, 0, 0, 0,\n",
       "       0, 0, 0, 2, 2, 2, 1, 1, 1, 1, 1])"
      ]
     },
     "execution_count": 17,
     "metadata": {},
     "output_type": "execute_result"
    }
   ],
   "source": [
    "km = KMeans(n_clusters=3)         \n",
    "y_predicted = km.fit_predict(data)\n",
    "y_predicted"
   ]
  },
  {
   "cell_type": "code",
   "execution_count": 18,
   "metadata": {},
   "outputs": [
    {
     "name": "stdout",
     "output_type": "stream",
     "text": [
      "    Node   Volts     LSF  cluster\n",
      "0      1  1.0000  0.0000        0\n",
      "1      2  0.9970  0.0003        0\n",
      "2      3  0.9829  0.0019        0\n",
      "3      4  0.9754  0.0014        0\n",
      "4      5  0.9680  0.0015        0\n",
      "5      6  0.9495  0.0034        2\n",
      "6      7  0.9460  0.0008        2\n",
      "7      8  0.9323  0.0074        2\n",
      "8      9  0.9260  0.0045        1\n",
      "9     10  0.9201  0.0046        1\n",
      "10    11  0.9193  0.0009        1\n",
      "11    12  0.9177  0.0017        1\n",
      "12    13  0.9116  0.0066        1\n",
      "13    14  0.9093  0.0025        1\n",
      "14    15  0.9079  0.0027        1\n",
      "15    16  0.9065  0.0034        1\n",
      "16    17  0.9044  0.0159        1\n",
      "17    18  0.9038  0.0034        1\n",
      "18    19  0.9965  0.0006        0\n",
      "19    20  0.9929  0.0057        0\n",
      "20    21  0.9922  0.0016        0\n",
      "21    22  0.9916  0.0027        0\n",
      "22    23  0.9793  0.0018        0\n",
      "23    24  0.9726  0.0036        0\n",
      "24    25  0.9693  0.0036        0\n",
      "25    26  0.9476  0.0008        2\n",
      "26    27  0.9450  0.0012        2\n",
      "27    28  0.9336  0.0045        2\n",
      "28    29  0.9254  0.0035        1\n",
      "29    30  0.9218  0.0022        1\n",
      "30    31  0.9176  0.0043        1\n",
      "31    32  0.9167  0.0014        1\n",
      "32    33  0.9164  0.0015        1\n"
     ]
    }
   ],
   "source": [
    "df['cluster']=y_predicted\n",
    "print(df)"
   ]
  },
  {
   "cell_type": "code",
   "execution_count": 19,
   "metadata": {},
   "outputs": [
    {
     "data": {
      "text/html": [
       "<div>\n",
       "<style scoped>\n",
       "    .dataframe tbody tr th:only-of-type {\n",
       "        vertical-align: middle;\n",
       "    }\n",
       "\n",
       "    .dataframe tbody tr th {\n",
       "        vertical-align: top;\n",
       "    }\n",
       "\n",
       "    .dataframe thead th {\n",
       "        text-align: right;\n",
       "    }\n",
       "</style>\n",
       "<table border=\"1\" class=\"dataframe\">\n",
       "  <thead>\n",
       "    <tr style=\"text-align: right;\">\n",
       "      <th></th>\n",
       "      <th>valtage</th>\n",
       "      <th>LSF</th>\n",
       "    </tr>\n",
       "  </thead>\n",
       "  <tbody>\n",
       "    <tr>\n",
       "      <th>0</th>\n",
       "      <td>0.984808</td>\n",
       "      <td>0.002058</td>\n",
       "    </tr>\n",
       "    <tr>\n",
       "      <th>1</th>\n",
       "      <td>0.914967</td>\n",
       "      <td>0.003940</td>\n",
       "    </tr>\n",
       "    <tr>\n",
       "      <th>2</th>\n",
       "      <td>0.942333</td>\n",
       "      <td>0.003017</td>\n",
       "    </tr>\n",
       "  </tbody>\n",
       "</table>\n",
       "</div>"
      ],
      "text/plain": [
       "    valtage       LSF\n",
       "0  0.984808  0.002058\n",
       "1  0.914967  0.003940\n",
       "2  0.942333  0.003017"
      ]
     },
     "execution_count": 19,
     "metadata": {},
     "output_type": "execute_result"
    }
   ],
   "source": [
    "e=km.cluster_centers_\n",
    "e\n",
    "cdf=pd.DataFrame(e,columns=['valtage','LSF'])\n",
    "cdf\n"
   ]
  },
  {
   "cell_type": "code",
   "execution_count": 20,
   "metadata": {},
   "outputs": [
    {
     "data": {
      "image/png": "[encoded data removed]",
      "text/plain": [
       "<Figure size 432x288 with 1 Axes>"
      ]
     },
     "metadata": {
      "needs_background": "light"
     },
     "output_type": "display_data"
    }
   ],
   "source": [
    "\n",
    "df1 = df[df.cluster==0]\n",
    "df2 = df[df.cluster==1]\n",
    "df3 = df[df.cluster==2]\n",
    "plt.scatter(df1.Node,df1['LSF'],color='green',label='cluster:1')\n",
    "plt.scatter(df2.Node,df2['LSF'],color='red',label='cluster:2')\n",
    "plt.scatter(df3.Node,df3['LSF'],color='yellow',label='cluster:3')\n",
    "\n",
    "plt.xlabel('load')\n",
    "plt.ylabel('LSF')\n",
    "plt.legend()\n",
    "plt.show()"
   ]
  },
  {
   "cell_type": "code",
   "execution_count": 21,
   "metadata": {},
   "outputs": [],
   "source": [
    "\n",
    "sse = []\n",
    "k_range = range(1,34)\n",
    "for k in k_range:\n",
    "    km = KMeans(n_clusters=k)\n",
    "    km.fit(data)\n",
    "    sse.append(km.inertia_)"
   ]
  },
  {
   "cell_type": "code",
   "execution_count": 22,
   "metadata": {},
   "outputs": [
    {
     "data": {
      "text/plain": [
       "[0.03535447393939395,\n",
       " 0.005958882142857139,\n",
       " 0.00274550933333333,\n",
       " 0.001490200999999996,\n",
       " 0.000858681136363636,\n",
       " 0.0005439353571428569,\n",
       " 0.0004105613571428568,\n",
       " 0.00028051969047619056,\n",
       " 0.0002196780238095237,\n",
       " 0.0001629834999999997,\n",
       " 0.00013475500000000005,\n",
       " 0.00011606333333333401,\n",
       " 9.009166666666694e-05,\n",
       " 7.727083333333387e-05,\n",
       " 6.481833333333334e-05,\n",
       " 5.483166666666693e-05,\n",
       " 4.5763333333333594e-05,\n",
       " 3.970166666666653e-05,\n",
       " 3.2911666666666794e-05,\n",
       " 2.6039999999999798e-05,\n",
       " 2.0711666666666836e-05,\n",
       " 1.6741666666666967e-05,\n",
       " 1.3375000000000176e-05,\n",
       " 1.020500000000003e-05,\n",
       " 7.154999999999927e-06,\n",
       " 4.188333333333132e-06,\n",
       " 3.1883333333331933e-06,\n",
       " 2.264999999999884e-06,\n",
       " 1.4799999999999236e-06,\n",
       " 7.999999999999634e-07,\n",
       " 2.1999999999996253e-07,\n",
       " 9.999999999998018e-08,\n",
       " 0.0]"
      ]
     },
     "execution_count": 22,
     "metadata": {},
     "output_type": "execute_result"
    }
   ],
   "source": [
    "sse"
   ]
  },
  {
   "cell_type": "markdown",
   "metadata": {},
   "source": [
    "### The SSE is defined as the sum of the squared Euclidean distances of each point to its closest centroid. Since this is a measure of error, the objective of k-means is to try to minimize this value. The purpose of this figure is to show that the initialization of the centroids is an important step :"
   ]
  },
  {
   "cell_type": "code",
   "execution_count": 315,
   "metadata": {},
   "outputs": [
    {
     "data": {
      "text/plain": [
       "[<matplotlib.lines.Line2D at 0x24581c94ac0>]"
      ]
     },
     "execution_count": 315,
     "metadata": {},
     "output_type": "execute_result"
    },
    {
     "data": {
      "image/png": "[encoded data removed]",
      "text/plain": [
       "<Figure size 432x288 with 1 Axes>"
      ]
     },
     "metadata": {
      "needs_background": "light"
     },
     "output_type": "display_data"
    }
   ],
   "source": [
    "\n",
    "plt.xlabel('Number of clusters (K)')\n",
    "plt.ylabel('Sum of squared error')\n",
    "plt.plot(k_range,sse)"
   ]
  }
 ],
 "metadata": {
  "kernelspec": {
   "display_name": "Python 3",
   "language": "python",
   "name": "python3"
  },
  "language_info": {
   "codemirror_mode": {
    "name": "ipython",
    "version": 3
   },
   "file_extension": ".py",
   "mimetype": "text/x-python",
   "name": "python",
   "nbconvert_exporter": "python",
   "pygments_lexer": "ipython3",
   "version": "3.8.5"
  }
 },
 "nbformat": 4,
 "nbformat_minor": 4
}
